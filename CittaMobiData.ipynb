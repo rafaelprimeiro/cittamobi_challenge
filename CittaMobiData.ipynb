{
 "cells": [
  {
   "cell_type": "code",
   "execution_count": 16,
   "metadata": {},
   "outputs": [],
   "source": [
    "import matplotlib.pyplot as plt\n",
    "import pandas as pd\n",
    "from sklearn.cluster import KMeans\n",
    "import numpy as np"
   ]
  },
  {
   "cell_type": "code",
   "execution_count": 17,
   "metadata": {},
   "outputs": [
    {
     "name": "stdout",
     "output_type": "stream",
     "text": [
      "<class 'pandas.core.frame.DataFrame'>\n",
      "RangeIndex: 53463 entries, 0 to 53462\n",
      "Data columns (total 9 columns):\n",
      " #   Column          Non-Null Count  Dtype  \n",
      "---  ------          --------------  -----  \n",
      " 0   stop_id         53463 non-null  object \n",
      " 1   stop_code       0 non-null      float64\n",
      " 2   stop_name       53463 non-null  object \n",
      " 3   stop_desc       0 non-null      float64\n",
      " 4   stop_lat        53463 non-null  float64\n",
      " 5   stop_lon        53463 non-null  float64\n",
      " 6   stop_url        0 non-null      float64\n",
      " 7   location_type   46444 non-null  float64\n",
      " 8   parent_station  0 non-null      float64\n",
      "dtypes: float64(7), object(2)\n",
      "memory usage: 3.7+ MB\n"
     ]
    }
   ],
   "source": [
    "stops = pd.read_csv('dados/stops.txt')\n",
    "stops.info()"
   ]
  },
  {
   "cell_type": "code",
   "execution_count": 18,
   "metadata": {},
   "outputs": [],
   "source": [
    "id1_stop_lat = stops"
   ]
  },
  {
   "cell_type": "code",
   "execution_count": 19,
   "metadata": {},
   "outputs": [
    {
     "data": {
      "text/plain": "<matplotlib.collections.PathCollection at 0x7faa2e6e2ca0>"
     },
     "execution_count": 19,
     "metadata": {},
     "output_type": "execute_result"
    },
    {
     "data": {
      "text/plain": "<Figure size 432x288 with 1 Axes>",
      "image/png": "[encoded data removed]"
     },
     "metadata": {
      "needs_background": "light"
     },
     "output_type": "display_data"
    }
   ],
   "source": [
    "plt.scatter(id1_stop_lat.stop_lat, id1_stop_lat.stop_lon)"
   ]
  },
  {
   "cell_type": "code",
   "execution_count": 20,
   "metadata": {},
   "outputs": [],
   "source": [
    "res = stops[:2]"
   ]
  },
  {
   "cell_type": "code",
   "metadata": {
    "pycharm": {
     "name": "#%%\n"
    }
   },
   "source": [
    "\n",
    "rotas = pd.read_csv('dados/routes.txt')\n",
    "rotas.info()\n"
   ],
   "execution_count": 21,
   "outputs": [
    {
     "name": "stdout",
     "output_type": "stream",
     "text": [
      "<class 'pandas.core.frame.DataFrame'>\n",
      "RangeIndex: 1280 entries, 0 to 1279\n",
      "Data columns (total 8 columns):\n",
      " #   Column            Non-Null Count  Dtype  \n",
      "---  ------            --------------  -----  \n",
      " 0   route_id          1280 non-null   object \n",
      " 1   agency_id         1280 non-null   object \n",
      " 2   route_short_name  1280 non-null   object \n",
      " 3   route_long_name   1280 non-null   object \n",
      " 4   route_desc        0 non-null      float64\n",
      " 5   route_type        1280 non-null   int64  \n",
      " 6   route_color       1280 non-null   object \n",
      " 7   route_text_color  1271 non-null   object \n",
      "dtypes: float64(1), int64(1), object(6)\n",
      "memory usage: 80.1+ KB\n"
     ]
    }
   ]
  },
  {
   "cell_type": "code",
   "execution_count": 22,
   "metadata": {},
   "outputs": [
    {
     "data": {
      "text/plain": "                               route_id                             agency_id  \\\n0  733ca29f-5e68-4d19-913d-2d9adf975912  9b0f9c54-95d2-4b66-a586-274ea116e64f   \n\n  route_short_name              route_long_name  route_desc  route_type  \\\n0          1709-21  Jd. Joamar - Metrô Tucuruvi         NaN           3   \n\n  route_color route_text_color  \n0      002F6C           FFFFFF  ",
      "text/html": "<div>\n<style scoped>\n    .dataframe tbody tr th:only-of-type {\n        vertical-align: middle;\n    }\n\n    .dataframe tbody tr th {\n        vertical-align: top;\n    }\n\n    .dataframe thead th {\n        text-align: right;\n    }\n</style>\n<table border=\"1\" class=\"dataframe\">\n  <thead>\n    <tr style=\"text-align: right;\">\n      <th></th>\n      <th>route_id</th>\n      <th>agency_id</th>\n      <th>route_short_name</th>\n      <th>route_long_name</th>\n      <th>route_desc</th>\n      <th>route_type</th>\n      <th>route_color</th>\n      <th>route_text_color</th>\n    </tr>\n  </thead>\n  <tbody>\n    <tr>\n      <th>0</th>\n      <td>733ca29f-5e68-4d19-913d-2d9adf975912</td>\n      <td>9b0f9c54-95d2-4b66-a586-274ea116e64f</td>\n      <td>1709-21</td>\n      <td>Jd. Joamar - Metrô Tucuruvi</td>\n      <td>NaN</td>\n      <td>3</td>\n      <td>002F6C</td>\n      <td>FFFFFF</td>\n    </tr>\n  </tbody>\n</table>\n</div>"
     },
     "execution_count": 22,
     "metadata": {},
     "output_type": "execute_result"
    }
   ],
   "source": [
    "rota1 = rotas[:1]\n",
    "rota1"
   ]
  },
  {
   "cell_type": "code",
   "execution_count": 23,
   "metadata": {
    "scrolled": true
   },
   "outputs": [
    {
     "name": "stdout",
     "output_type": "stream",
     "text": [
      "<class 'pandas.core.frame.DataFrame'>\n",
      "RangeIndex: 4869 entries, 0 to 4868\n",
      "Data columns (total 6 columns):\n",
      " #   Column         Non-Null Count  Dtype \n",
      "---  ------         --------------  ----- \n",
      " 0   route_id       4869 non-null   object\n",
      " 1   service_id     4869 non-null   object\n",
      " 2   trip_id        4869 non-null   object\n",
      " 3   trip_headsign  4844 non-null   object\n",
      " 4   direction_id   4869 non-null   int64 \n",
      " 5   shape_id       4869 non-null   object\n",
      "dtypes: int64(1), object(5)\n",
      "memory usage: 228.4+ KB\n"
     ]
    }
   ],
   "source": [
    "trips = pd.read_csv('dados/trips.txt')\n",
    "trips.info()"
   ]
  },
  {
   "cell_type": "code",
   "execution_count": 24,
   "metadata": {},
   "outputs": [
    {
     "data": {
      "text/plain": "                               route_id service_id  \\\n0  e3e24018-562b-47c5-bf0c-e794a65bf0f6      1-USD   \n\n                                    trip_id   trip_headsign  direction_id  \\\n0  af90fc25-c5e3-4a13-93f8-ab9d0611c5da_USD  Div. De Ferraz             1   \n\n                               shape_id  \n0  af90fc25-c5e3-4a13-93f8-ab9d0611c5da  ",
      "text/html": "<div>\n<style scoped>\n    .dataframe tbody tr th:only-of-type {\n        vertical-align: middle;\n    }\n\n    .dataframe tbody tr th {\n        vertical-align: top;\n    }\n\n    .dataframe thead th {\n        text-align: right;\n    }\n</style>\n<table border=\"1\" class=\"dataframe\">\n  <thead>\n    <tr style=\"text-align: right;\">\n      <th></th>\n      <th>route_id</th>\n      <th>service_id</th>\n      <th>trip_id</th>\n      <th>trip_headsign</th>\n      <th>direction_id</th>\n      <th>shape_id</th>\n    </tr>\n  </thead>\n  <tbody>\n    <tr>\n      <th>0</th>\n      <td>e3e24018-562b-47c5-bf0c-e794a65bf0f6</td>\n      <td>1-USD</td>\n      <td>af90fc25-c5e3-4a13-93f8-ab9d0611c5da_USD</td>\n      <td>Div. De Ferraz</td>\n      <td>1</td>\n      <td>af90fc25-c5e3-4a13-93f8-ab9d0611c5da</td>\n    </tr>\n  </tbody>\n</table>\n</div>"
     },
     "execution_count": 24,
     "metadata": {},
     "output_type": "execute_result"
    }
   ],
   "source": [
    "trip = trips[:1]\n",
    "trip"
   ]
  },
  {
   "cell_type": "code",
   "execution_count": 25,
   "metadata": {},
   "outputs": [
    {
     "data": {
      "text/plain": "0.6307353712501135"
     },
     "execution_count": 25,
     "metadata": {},
     "output_type": "execute_result"
    }
   ],
   "source": [
    "import math\n",
    "d2r = 0.017453292519943295769236\n",
    "dlong = (-46.410291 - (-46.416247)) * d2r\n",
    "dlat = (-23.543302 - (-23.541756)) * d2r\n",
    "temp_sin = math.sin(dlat/2.0);\n",
    "temp_cos = math.cos(-23.541756 * d2r)\n",
    "temp_sin2 = math.sin(dlong/2.0)\n",
    "\n",
    "a = (temp_sin * temp_sin) + (temp_cos * temp_cos) * (temp_sin2 * temp_sin2)\n",
    "c = 2.0 * math.atan2(math.sqrt(a), math.sqrt(1.0 - a))\n",
    "\n",
    "result = 6368.1 * c\n",
    "result"
   ]
  },
  {
   "cell_type": "code",
   "execution_count": 26,
   "metadata": {},
   "outputs": [
    {
     "data": {
      "text/plain": "stop_id           53463\nstop_code             0\nstop_name         53463\nstop_desc             0\nstop_lat          53463\nstop_lon          53463\nstop_url              0\nlocation_type     46444\nparent_station        0\ndtype: int64"
     },
     "execution_count": 26,
     "metadata": {},
     "output_type": "execute_result"
    }
   ],
   "source": [
    "def removerCincoMetro(latInicial,longInicial, latFinal,longFinal):\n",
    "    d2r = 0.017453292519943295769236\n",
    "    dlong = (longFinal - longInicial) * d2r\n",
    "    dlat = (latFinal - latInicial) * d2r\n",
    "    temp_sin = math.sin(dlat / 2.0);\n",
    "    temp_cos = math.cos(latInicial * d2r)\n",
    "    temp_sin2 = math.sin(dlong / 2.0)\n",
    "\n",
    "    a = (temp_sin * temp_sin) + (temp_cos * temp_cos) * (temp_sin2 * temp_sin2)\n",
    "    c = 2.0 * math.atan2(math.sqrt(a), math.sqrt(1.0 - a))\n",
    "\n",
    "    return (6368.1 * c) < 0.005\n",
    "\n",
    "count = 0 # número de pontos dentro de 5 metros\n",
    "\n",
    "size = stops.count()\n",
    "size"
   ]
  },
  {
   "cell_type": "code",
   "execution_count": 27,
   "metadata": {
    "pycharm": {
     "name": "#%%\n"
    }
   },
   "outputs": [
    {
     "name": "stdout",
     "output_type": "stream",
     "text": [
      "red red\n",
      "red big\n",
      "red tasty\n",
      "big red\n",
      "big big\n",
      "big tasty\n",
      "tasty red\n",
      "tasty big\n",
      "tasty tasty\n"
     ]
    }
   ],
   "source": [
    "adj = [\"red\", \"big\", \"tasty\"]\n",
    "\n",
    "for x in adj:\n",
    "  for y in adj:\n",
    "    print(x, y)"
   ]
  },
  {
   "cell_type": "code",
   "execution_count": 27,
   "outputs": [],
   "source": [],
   "metadata": {
    "collapsed": false,
    "pycharm": {
     "name": "#%%\n"
    }
   }
  },
  {
   "cell_type": "code",
   "execution_count": 27,
   "metadata": {},
   "outputs": [],
   "source": []
  },
  {
   "cell_type": "code",
   "execution_count": 27,
   "metadata": {},
   "outputs": [],
   "source": []
  }
 ],
 "metadata": {
  "kernelspec": {
   "display_name": "Python 3",
   "language": "python",
   "name": "python3"
  },
  "language_info": {
   "codemirror_mode": {
    "name": "ipython",
    "version": 3
   },
   "file_extension": ".py",
   "mimetype": "text/x-python",
   "name": "python",
   "nbconvert_exporter": "python",
   "pygments_lexer": "ipython3",
   "version": "3.8.2"
  }
 },
 "nbformat": 4,
 "nbformat_minor": 4
}